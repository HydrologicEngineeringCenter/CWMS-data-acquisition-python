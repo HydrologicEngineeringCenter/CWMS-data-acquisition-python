{
 "cells": [
  {
   "cell_type": "code",
   "execution_count": null,
   "id": "110f7930-0af1-492c-b74c-376f1cb45f86",
   "metadata": {},
   "outputs": [],
   "source": [
    "#libraries\n",
    "import pandas as pd\n",
    "from datetime import datetime, timedelta\n",
    "import sys\n",
    "sys.path.insert(0, \"C:/Soft/repos/cwms-python\")\n",
    "import cwms\n",
    "import numpy as np"
   ]
  },
  {
   "cell_type": "markdown",
   "id": "0b2ee793-be0f-4166-ada9-259ba79de895",
   "metadata": {},
   "source": [
    "## Copy Locations"
   ]
  },
  {
   "cell_type": "code",
   "execution_count": null,
   "id": "1295b43c-d073-4549-8e47-15fa6fc23afc",
   "metadata": {},
   "outputs": [],
   "source": [
    "apiRoot_src = \"https://wm.mvp.ds.usace.army.mil:8243/mvp-data/\""
   ]
  },
  {
   "cell_type": "code",
   "execution_count": null,
   "id": "44935f4a-4b8b-4a07-94fb-bd04d092cc34",
   "metadata": {},
   "outputs": [],
   "source": [
    "apiRoot_dev = \"https://water.dev.cwbi.us/cwms-data/\""
   ]
  },
  {
   "cell_type": "code",
   "execution_count": null,
   "id": "f8bf8507-8bfe-4e83-a739-a6976c068e67",
   "metadata": {},
   "outputs": [],
   "source": [
    "from getpass import getpass\n",
    "apiKey = getpass()\n",
    "apiKey_dev = \"apikey \" + apiKey"
   ]
  },
  {
   "cell_type": "code",
   "execution_count": null,
   "id": "647da2b3-d55e-4e32-a55f-52e86f2ec511",
   "metadata": {},
   "outputs": [],
   "source": [
    "office = 'MVP'"
   ]
  },
  {
   "cell_type": "code",
   "execution_count": null,
   "id": "16a34d19-dfeb-4088-a19d-62bb00a9611d",
   "metadata": {},
   "outputs": [],
   "source": [
    "api = cwms.api.init_session(api_root=apiRoot_src)#, api_key=apiKey)"
   ]
  },
  {
   "cell_type": "code",
   "execution_count": null,
   "id": "e8128b63-5d83-47ae-bf32-405d27da4949",
   "metadata": {},
   "outputs": [],
   "source": [
    "location = cwms.get_locations_catalog(office_id=office)"
   ]
  },
  {
   "cell_type": "code",
   "execution_count": null,
   "id": "b79a0196-11bb-4763-a005-b7683ddcd774",
   "metadata": {},
   "outputs": [],
   "source": [
    "locations = location.df"
   ]
  },
  {
   "cell_type": "code",
   "execution_count": null,
   "id": "6c5d4fff-c605-452f-96ee-0f43ecb9126c",
   "metadata": {},
   "outputs": [],
   "source": [
    "api = cwms.api.init_session(api_root=apiRoot_dev, api_key=apiKey_dev)"
   ]
  },
  {
   "cell_type": "code",
   "execution_count": null,
   "id": "cc725358-7d99-4879-ba16-0ef9125b9fbb",
   "metadata": {},
   "outputs": [],
   "source": [
    "def default_val(value, default):\n",
    "    if pd.isna(value) or value == 'Unknown or Not Applicable':\n",
    "        value = default\n",
    "    return value\n",
    "\n",
    "def store_multi_location_df(locations):\n",
    "    for i,row in locations.iterrows():\n",
    "        if row['active']:\n",
    "            loc_json = {\n",
    "              \"office-id\": row['office'],  # required\n",
    "              \"name\": row['name'],    #required\n",
    "              \"latitude\": float(default_val(row['latitude'],'38.0')),  #required\n",
    "              \"longitude\": float(default_val(row['longitude'],'-85.0')),  #required\n",
    "              \"active\": row['active'],  #required\n",
    "              \"public-name\": row['public-name'],\n",
    "              \"long-name\": row['long-name'],\n",
    "              \"description\": row['description'],\n",
    "              \"timezone-name\": default_val(row['time-zone'],'US/CENTRAL'), #required\n",
    "              \"location-type\": row['type'], \n",
    "              \"location-kind\": row['kind'],  #required\n",
    "              \"nation\": 'US',   #required and abbreviated\n",
    "              #\"state-initial\": row['state'],  #Saving state doesn't work.\n",
    "              #\"county-name\": row['county'],\n",
    "              \"nearest-city\": row['nearest-city'],\n",
    "              \"horizontal-datum\": default_val(row['horizontal-datum'],'NAD27'),  #required\n",
    "              \"published-longitude\": float(row['published-longitude']),\n",
    "              \"published-latitude\": float(row['published-latitude']),\n",
    "              \"vertical-datum\": row['vertical-datum'],\n",
    "              \"elevation\": float(row['elevation']),\n",
    "              \"map-label\": row['map-label'],\n",
    "              \"bounding-office-id\": row['bounding-office'],\n",
    "              \"elevation-units\": row['unit']\n",
    "            }\n",
    "            #clean_dict = filter(lambda k: not pd.isna(loc_json[k]), loc_json)\n",
    "            clean_dict = {k: loc_json[k] for k in loc_json if not pd.isna(loc_json[k])}\n",
    "            #print(clean_dict)\n",
    "            try:\n",
    "                cwms.store_location(data = clean_dict)\n",
    "            except:\n",
    "                print(clean_dict)\n",
    "                print('save failed')"
   ]
  },
  {
   "cell_type": "code",
   "execution_count": null,
   "id": "887e3832-592e-487f-b7fa-6653f8c61eba",
   "metadata": {
    "scrolled": true
   },
   "outputs": [],
   "source": [
    "store_multi_location_df(locations)"
   ]
  },
  {
   "cell_type": "code",
   "execution_count": null,
   "id": "f96eb8e6-96de-4551-ac9b-8c7a20f5f469",
   "metadata": {},
   "outputs": [],
   "source": [
    "location_dev = cwms.get_locations_catalog(office_id=office)"
   ]
  },
  {
   "cell_type": "markdown",
   "id": "97ab3521-8193-4c6f-92b3-fa3dcbc5add6",
   "metadata": {},
   "source": [
    "## Copy TimeSeries Identifiers"
   ]
  },
  {
   "cell_type": "code",
   "execution_count": null,
   "id": "9aa3f59e-5f05-4f24-bd65-3170cd781b44",
   "metadata": {},
   "outputs": [],
   "source": [
    "api = cwms.api.init_session(api_root=apiRoot_src)#, api_key=apiKey)"
   ]
  },
  {
   "cell_type": "code",
   "execution_count": null,
   "id": "0fdd77ef-7d91-49d8-b05a-20913e679c46",
   "metadata": {},
   "outputs": [],
   "source": [
    "ts_indentifier = cwms.get_timeseries_identifiers(office_id=office,page_size=100000)"
   ]
  },
  {
   "cell_type": "code",
   "execution_count": null,
   "id": "3331f335-f29c-4d1c-bf4a-78b54cecde4f",
   "metadata": {},
   "outputs": [],
   "source": [
    "location = cwms.get_locations_catalog(office_id=office)"
   ]
  },
  {
   "cell_type": "code",
   "execution_count": null,
   "id": "a1803ab9-ce10-4cf5-8cb8-ac06610c7a72",
   "metadata": {},
   "outputs": [],
   "source": [
    "api = cwms.api.init_session(api_root=apiRoot_dev, api_key=apiKey_dev)"
   ]
  },
  {
   "cell_type": "code",
   "execution_count": null,
   "id": "9cc72fbb-7089-46e7-aa42-679233b5fa0b",
   "metadata": {},
   "outputs": [],
   "source": [
    "ts_ids = ts_indentifier.df\n",
    "ts_ids[['location-id','param','type','int','dur','ver']] = ts_ids['time-series-id'].str.split('.', expand=True)\n",
    "locs = location.df.rename(columns = {'name': 'location-id','office':'office-id'})"
   ]
  },
  {
   "cell_type": "code",
   "execution_count": null,
   "id": "835b9cc4-c421-4409-8a73-00a227b5e6f7",
   "metadata": {},
   "outputs": [],
   "source": [
    "\n",
    "ts_lo_ids = pd.merge(ts_ids, locs, how='inner',on=['location-id','office-id'])"
   ]
  },
  {
   "cell_type": "code",
   "execution_count": null,
   "id": "d9893089-f37a-4e5d-9653-208e20a391f9",
   "metadata": {
    "scrolled": true
   },
   "outputs": [],
   "source": [
    "for i,row in ts_lo_ids.iterrows():\n",
    "    \n",
    "    t_id = {\n",
    "      \"office-id\": row['office-id'],\n",
    "      \"time-series-id\": row['time-series-id'],\n",
    "      \"timezone-name\": default_val(row['timezone-name'],'US/Eastern'),\n",
    "      \"interval-offset-minutes\": float(row['interval-offset-minutes']),\n",
    "      \"active\": row['active_x']\n",
    "    }\n",
    "    try:\n",
    "        cwms.store_timeseries_identifier(data=t_id,fail_if_exists=False)\n",
    "    except:\n",
    "        print(row['time-series-id'])\n",
    "    "
   ]
  },
  {
   "cell_type": "code",
   "execution_count": null,
   "id": "7077ceae-3b8a-4d58-87e9-e8ed672156c3",
   "metadata": {},
   "outputs": [],
   "source": [
    "ts_indentifier_dev = cwms.get_timeseries_identifiers(office_id=office,page_size=20000)"
   ]
  },
  {
   "cell_type": "code",
   "execution_count": null,
   "id": "2387a1f2-4b39-4f36-99b4-c10685dfce1a",
   "metadata": {},
   "outputs": [],
   "source": [
    "ts_dev = ts_indentifier_dev.df"
   ]
  },
  {
   "cell_type": "code",
   "execution_count": null,
   "id": "17803f01-cc66-4df6-9f83-addbc8cb1fc6",
   "metadata": {},
   "outputs": [],
   "source": [
    "merged_df = pd.merge(ts_dev, ts_lo_ids, on='time-series-id', how='outer', indicator=True)"
   ]
  },
  {
   "cell_type": "code",
   "execution_count": null,
   "id": "22fb1ef3-5543-4692-9e7f-2fc6d6ba32eb",
   "metadata": {},
   "outputs": [],
   "source": [
    "ts_indentifier.df"
   ]
  },
  {
   "cell_type": "markdown",
   "id": "e05bbdd1-dc2c-452a-a4c8-b1bc1b709dc2",
   "metadata": {},
   "source": [
    "## Copy Timeseries group"
   ]
  },
  {
   "cell_type": "code",
   "execution_count": null,
   "id": "337cdc79-d2f5-42a3-82f1-0c4476467e87",
   "metadata": {},
   "outputs": [],
   "source": [
    "api = cwms.api.init_session(api_root=apiRoot_src)#, api_key=apiKey)"
   ]
  },
  {
   "cell_type": "code",
   "execution_count": null,
   "id": "32bbed8f-22d3-47db-af79-1e0bd81621c4",
   "metadata": {},
   "outputs": [],
   "source": [
    "loc_groups = cwms.get_timeseries_group(group_id=\"USGS TS Data Acquisition\",category_id=\"Data Acquisition\",office_id=\"MVP\",category_office_id=\"CWMS\",group_office_id=\"CWMS\")\n",
    "#loc_groups = cwms.get_timeseries_group(group_id=\"SHEF Data Acquisition\",category_id=\"Data Acquisition\",office_id=\"LRL\",category_office_id=\"CWMS\",group_office_id=\"CWMS\")"
   ]
  },
  {
   "cell_type": "code",
   "execution_count": null,
   "id": "2ca26453-e3ca-4e55-ac9d-cb4b83e9c454",
   "metadata": {},
   "outputs": [],
   "source": [
    "api = cwms.api.init_session(api_root=apiRoot_dev, api_key=apiKey_dev)"
   ]
  },
  {
   "cell_type": "code",
   "execution_count": null,
   "id": "a3e64e16-0b41-40bd-847d-ff5a588882ef",
   "metadata": {},
   "outputs": [],
   "source": [
    "loc_groups.df"
   ]
  },
  {
   "cell_type": "code",
   "execution_count": null,
   "id": "0259cb16-a9bb-4936-b33f-ec27db1194b1",
   "metadata": {},
   "outputs": [],
   "source": [
    "cwms.update_timeseries_groups(data=loc_groups.json,group_id=\"USGS TS Data Acquisition\",office_id=office,replace_assigned_ts=False)"
   ]
  },
  {
   "cell_type": "code",
   "execution_count": null,
   "id": "9c301ba2-726b-4612-92ab-86586eb0d869",
   "metadata": {},
   "outputs": [],
   "source": [
    "loc_group_dev = cwms.get_timeseries_group(group_id=\"USGS TS Data Acquisition\",category_id=\"Data Acquisition\",office_id=office,category_office_id=\"CWMS\",group_office_id=\"CWMS\")"
   ]
  },
  {
   "cell_type": "code",
   "execution_count": null,
   "id": "381b940d-acc0-43ac-82f1-8af6729343ec",
   "metadata": {},
   "outputs": [],
   "source": [
    "loc_group_dev.df"
   ]
  },
  {
   "cell_type": "markdown",
   "id": "6bf93bcb-624d-482f-a0b5-3d32a9401c72",
   "metadata": {},
   "source": [
    "## Location Groups"
   ]
  },
  {
   "cell_type": "code",
   "execution_count": null,
   "id": "49d953d7-1bb6-420d-a3c7-083a08e496bf",
   "metadata": {},
   "outputs": [],
   "source": [
    "api = cwms.api.init_session(api_root=apiRoot_src)#, api_key=apiKey)"
   ]
  },
  {
   "cell_type": "code",
   "execution_count": null,
   "id": "d2bd66b6-05b2-4a8d-83e8-ff4c72b921b9",
   "metadata": {},
   "outputs": [],
   "source": [
    "Loc_group = cwms.get_location_group(loc_group_id=\"USGS Station Number\",category_id=\"Agency Aliases\",office_id=\"CWMS\")"
   ]
  },
  {
   "cell_type": "code",
   "execution_count": null,
   "id": "2bd35099-986a-443f-afe6-ca479f4d5086",
   "metadata": {},
   "outputs": [],
   "source": [
    "Loc_group.json"
   ]
  },
  {
   "cell_type": "code",
   "execution_count": null,
   "id": "a90b2ec1-e334-48cf-a84c-1c40d10fd523",
   "metadata": {},
   "outputs": [],
   "source": [
    "api = cwms.api.init_session(api_root=apiRoot_dev, api_key=apiKey_dev)"
   ]
  },
  {
   "cell_type": "code",
   "execution_count": null,
   "id": "b4829304-c0c7-4e97-a760-464998455963",
   "metadata": {},
   "outputs": [],
   "source": [
    "cwms.update_location_group(data=Loc_group.json, group_id=\"USGS Station Number\",office_id=office,replace_assigned_locs=False)"
   ]
  },
  {
   "cell_type": "code",
   "execution_count": null,
   "id": "9d572a08-c9a0-481f-b575-58fa1f789172",
   "metadata": {},
   "outputs": [],
   "source": [
    "Loc_group_dev = cwms.get_location_group(loc_group_id=\"USGS Station Number\",category_id=\"Agency Aliases\",office_id=\"CWMS\")"
   ]
  },
  {
   "cell_type": "code",
   "execution_count": null,
   "id": "ad60c6d1-3afc-435c-9c67-76f1230fb978",
   "metadata": {
    "scrolled": true
   },
   "outputs": [],
   "source": [
    "Loc_group_dev.df"
   ]
  },
  {
   "cell_type": "code",
   "execution_count": null,
   "id": "174b6f67-7686-4436-837c-cf4935d8de64",
   "metadata": {
    "scrolled": true
   },
   "outputs": [],
   "source": [
    "Loc_group.df"
   ]
  },
  {
   "cell_type": "markdown",
   "id": "d7bbcb01-8bc3-4b5a-ba35-fde2fbc977bd",
   "metadata": {},
   "source": [
    "## Copy Rating Templates"
   ]
  },
  {
   "cell_type": "code",
   "execution_count": null,
   "id": "2845b3a8-73a6-4a92-a7d3-ac37cdb09308",
   "metadata": {},
   "outputs": [],
   "source": [
    "api = cwms.api.init_session(api_root=apiRoot_src)#, api_key=apiKey)"
   ]
  },
  {
   "cell_type": "code",
   "execution_count": null,
   "id": "1713c49d-0d82-41ae-8450-a53f7b0fea21",
   "metadata": {},
   "outputs": [],
   "source": [
    "templates = cwms.get_rating_templates(office_id=office)"
   ]
  },
  {
   "cell_type": "code",
   "execution_count": null,
   "id": "8499870a-2407-4ba8-a124-cbd714a20b80",
   "metadata": {},
   "outputs": [],
   "source": [
    "temps = templates.df"
   ]
  },
  {
   "cell_type": "code",
   "execution_count": null,
   "id": "b8cf01ca-0ca8-4c1c-b4e9-b785bc0db033",
   "metadata": {},
   "outputs": [],
   "source": [
    "def rating_template_df_to_xml(data: pd.DataFrame) -> str:\n",
    "    \n",
    "    office_id = data['office-id']\n",
    "    parameters, template_ver = data['id'].split('.')\n",
    "    dep_param = data['dependent-parameter']\n",
    "    discription = data['description']\n",
    "    ind_param_specs = data['independent-parameter-specs']\n",
    "\n",
    "    template_xml = f'''<?xml version=\"1.0\" encoding=\"utf-8\"?>\n",
    "    <rating-template office-id=\"{office_id}\">\n",
    "    <parameters-id>{parameters}</parameters-id>\n",
    "    <version>{template_ver}</version>\n",
    "      <ind-parameter-specs>'''\n",
    "\n",
    "    for i, d in enumerate(ind_param_specs):\n",
    "        param = d['parameter']\n",
    "        in_range_meth = d['in-range-method']\n",
    "        out_range_low_meth = d['out-range-low-method']\n",
    "        out_range_high_meth = d['out-range-high-method']\n",
    "        ind_param_xml = f'''\\n         <ind-parameter-spec position=\"{i+1}\">\n",
    "            <parameter>{param}</parameter>\n",
    "            <in-range-method>{in_range_meth}</in-range-method>\n",
    "            <out-range-low-method>{out_range_low_meth}</out-range-low-method>\n",
    "            <out-range-high-method>{out_range_high_meth}</out-range-high-method>\n",
    "         </ind-parameter-spec>'''\n",
    "        template_xml = template_xml + ind_param_xml\n",
    "\n",
    "    template_xml_end = f'''\\n      </ind-parameter-specs>\n",
    "    <dep-parameter>{dep_param}</dep-parameter>\n",
    "    <description>{discription}</description>\n",
    "    </rating-template>'''\n",
    "    template_xml = template_xml + template_xml_end\n",
    "    return template_xml\n",
    "    "
   ]
  },
  {
   "cell_type": "code",
   "execution_count": null,
   "id": "c391f71c-34b4-4ea9-b90b-6dcb1e495fc8",
   "metadata": {},
   "outputs": [],
   "source": [
    "api = cwms.api.init_session(api_root=apiRoot_dev, api_key=apiKey_dev)"
   ]
  },
  {
   "cell_type": "code",
   "execution_count": null,
   "id": "2ef45e7d-3f53-4288-b79f-e4e4e20c458a",
   "metadata": {},
   "outputs": [],
   "source": [
    "for i,row in temps.iterrows():\n",
    "    temp_xml = rating_template_df_to_xml(row)\n",
    "    cwms.store_rating_template(data = temp_xml)\n",
    "\n",
    "    "
   ]
  },
  {
   "cell_type": "code",
   "execution_count": null,
   "id": "f55fb2b3-2ac7-4f5f-bc4a-d4a689354ff7",
   "metadata": {},
   "outputs": [],
   "source": [
    "templates_dev = cwms.get_rating_templates(office_id=office)"
   ]
  },
  {
   "cell_type": "code",
   "execution_count": null,
   "id": "a1d53a11-d04a-41cf-b063-7cf79279346a",
   "metadata": {},
   "outputs": [],
   "source": [
    "templates_dev.df"
   ]
  },
  {
   "cell_type": "code",
   "execution_count": null,
   "id": "08f02826-b305-4194-abf5-6a74780947bf",
   "metadata": {},
   "outputs": [],
   "source": [
    "temps"
   ]
  },
  {
   "cell_type": "markdown",
   "id": "6521afd6-7eaa-4824-b6d8-f8631c5ab24c",
   "metadata": {},
   "source": [
    "## copy Rating Specs"
   ]
  },
  {
   "cell_type": "code",
   "execution_count": null,
   "id": "2a2b917b-49a7-41d2-89e2-c9634eff1d8c",
   "metadata": {},
   "outputs": [],
   "source": [
    "api = cwms.api.init_session(api_root=apiRoot_src)#, api_key=apiKey)"
   ]
  },
  {
   "cell_type": "code",
   "execution_count": null,
   "id": "7a99b364-f431-4a19-9fef-33a27be31ac5",
   "metadata": {},
   "outputs": [],
   "source": [
    "ratingspecs = cwms.get_rating_specs(office_id=office)"
   ]
  },
  {
   "cell_type": "code",
   "execution_count": null,
   "id": "7eb2af06-6115-40a2-b368-2d07c012df50",
   "metadata": {},
   "outputs": [],
   "source": [
    "specs = ratingspecs.df"
   ]
  },
  {
   "cell_type": "code",
   "execution_count": null,
   "id": "3d871c99-55e0-4339-92c1-1aa5d52c23de",
   "metadata": {},
   "outputs": [],
   "source": []
  },
  {
   "cell_type": "code",
   "execution_count": null,
   "id": "dca88a21-40c8-421a-822d-7550ce76ac93",
   "metadata": {},
   "outputs": [],
   "source": [
    "api = cwms.api.init_session(api_root=apiRoot_dev, api_key=apiKey_dev)"
   ]
  },
  {
   "cell_type": "code",
   "execution_count": null,
   "id": "ee70aa8c-f3d3-4e40-96ca-3042fb29afba",
   "metadata": {},
   "outputs": [],
   "source": [
    "for i,row in specs.iterrows():\n",
    "    temp = pd.DataFrame([row]).reset_index(drop = True).fillna('')\n",
    "    #print(pd.DataFrame([row]))\n",
    "    #print(temp)\n",
    "    #print(temp.loc[0,'office-id'])\n",
    "    spec_xml = cwms.rating_spec_df_to_xml(data=temp)\n",
    "    try:\n",
    "        cwms.store_rating_spec(data=spec_xml, fail_if_exists=False)\n",
    "    except:\n",
    "        print(spec_xml)"
   ]
  },
  {
   "cell_type": "code",
   "execution_count": null,
   "id": "22c3c3d3-5db1-4015-afcd-7520adfee8a4",
   "metadata": {},
   "outputs": [],
   "source": [
    "ratingspecs_dev = cwms.get_rating_specs(office_id=office)"
   ]
  },
  {
   "cell_type": "code",
   "execution_count": null,
   "id": "9550d1c2-0e14-44f4-9fa1-e4890bd4110b",
   "metadata": {},
   "outputs": [],
   "source": [
    "rating_specs_dev = ratingspecs_dev.df\n",
    "rating_specs_dev[rating_specs_dev['source-agency']=='USGS']"
   ]
  },
  {
   "cell_type": "code",
   "execution_count": null,
   "id": "ed916f8e-3de2-4aee-a66b-2a63894d903d",
   "metadata": {},
   "outputs": [],
   "source": []
  },
  {
   "cell_type": "code",
   "execution_count": null,
   "id": "9558310c-ef30-4833-9f12-4253c0436e23",
   "metadata": {},
   "outputs": [],
   "source": []
  }
 ],
 "metadata": {
  "kernelspec": {
   "display_name": "Python 3 (ipykernel)",
   "language": "python",
   "name": "python3"
  },
  "language_info": {
   "codemirror_mode": {
    "name": "ipython",
    "version": 3
   },
   "file_extension": ".py",
   "mimetype": "text/x-python",
   "name": "python",
   "nbconvert_exporter": "python",
   "pygments_lexer": "ipython3",
   "version": "3.9.18"
  }
 },
 "nbformat": 4,
 "nbformat_minor": 5
}
